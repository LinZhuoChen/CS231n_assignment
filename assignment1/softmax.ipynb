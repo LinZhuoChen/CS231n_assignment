{
 "cells": [
  {
   "cell_type": "markdown",
   "metadata": {},
   "source": [
    "# Softmax exercise\n",
    "\n",
    "*Complete and hand in this completed worksheet (including its outputs and any supporting code outside of the worksheet) with your assignment submission. For more details see the [assignments page](http://vision.stanford.edu/teaching/cs231n/assignments.html) on the course website.*\n",
    "\n",
    "This exercise is analogous to the SVM exercise. You will:\n",
    "\n",
    "- implement a fully-vectorized **loss function** for the Softmax classifier\n",
    "- implement the fully-vectorized expression for its **analytic gradient**\n",
    "- **check your implementation** with numerical gradient\n",
    "- use a validation set to **tune the learning rate and regularization** strength\n",
    "- **optimize** the loss function with **SGD**\n",
    "- **visualize** the final learned weights\n"
   ]
  },
  {
   "cell_type": "code",
   "execution_count": 1,
   "metadata": {
    "ExecuteTime": {
     "end_time": "2019-01-14T11:48:05.314907Z",
     "start_time": "2019-01-14T11:48:05.071231Z"
    }
   },
   "outputs": [],
   "source": [
    "import random\n",
    "import numpy as np\n",
    "from cs231n.data_utils import load_CIFAR10\n",
    "import matplotlib.pyplot as plt\n",
    "\n",
    "from __future__ import print_function\n",
    "\n",
    "%matplotlib inline\n",
    "plt.rcParams['figure.figsize'] = (10.0, 8.0) # set default size of plots\n",
    "plt.rcParams['image.interpolation'] = 'nearest'\n",
    "plt.rcParams['image.cmap'] = 'gray'\n",
    "\n",
    "# for auto-reloading extenrnal modules\n",
    "# see http://stackoverflow.com/questions/1907993/autoreload-of-modules-in-ipython\n",
    "%load_ext autoreload\n",
    "%autoreload 2"
   ]
  },
  {
   "cell_type": "code",
   "execution_count": 2,
   "metadata": {
    "ExecuteTime": {
     "end_time": "2019-01-14T11:48:08.048985Z",
     "start_time": "2019-01-14T11:48:05.316247Z"
    }
   },
   "outputs": [
    {
     "name": "stdout",
     "output_type": "stream",
     "text": [
      "Train data shape:  (49000, 3073)\n",
      "Train labels shape:  (49000,)\n",
      "Validation data shape:  (1000, 3073)\n",
      "Validation labels shape:  (1000,)\n",
      "Test data shape:  (1000, 3073)\n",
      "Test labels shape:  (1000,)\n",
      "dev data shape:  (500, 3073)\n",
      "dev labels shape:  (500,)\n"
     ]
    }
   ],
   "source": [
    "def get_CIFAR10_data(num_training=49000, num_validation=1000, num_test=1000, num_dev=500):\n",
    "    \"\"\"\n",
    "    Load the CIFAR-10 dataset from disk and perform preprocessing to prepare\n",
    "    it for the linear classifier. These are the same steps as we used for the\n",
    "    SVM, but condensed to a single function.  \n",
    "    \"\"\"\n",
    "    # Load the raw CIFAR-10 data\n",
    "    cifar10_dir = 'cs231n/datasets/cifar-10-batches-py'\n",
    "    \n",
    "    X_train, y_train, X_test, y_test = load_CIFAR10(cifar10_dir)\n",
    "    \n",
    "    # subsample the data\n",
    "    mask = list(range(num_training, num_training + num_validation))\n",
    "    X_val = X_train[mask]\n",
    "    y_val = y_train[mask]\n",
    "    mask = list(range(num_training))\n",
    "    X_train = X_train[mask]\n",
    "    y_train = y_train[mask]\n",
    "    mask = list(range(num_test))\n",
    "    X_test = X_test[mask]\n",
    "    y_test = y_test[mask]\n",
    "    mask = np.random.choice(num_training, num_dev, replace=False)\n",
    "    X_dev = X_train[mask]\n",
    "    y_dev = y_train[mask]\n",
    "    \n",
    "    # Preprocessing: reshape the image data into rows\n",
    "    X_train = np.reshape(X_train, (X_train.shape[0], -1))\n",
    "    X_val = np.reshape(X_val, (X_val.shape[0], -1))\n",
    "    X_test = np.reshape(X_test, (X_test.shape[0], -1))\n",
    "    X_dev = np.reshape(X_dev, (X_dev.shape[0], -1))\n",
    "    \n",
    "    # Normalize the data: subtract the mean image\n",
    "    mean_image = np.mean(X_train, axis = 0)\n",
    "    X_train -= mean_image\n",
    "    X_val -= mean_image\n",
    "    X_test -= mean_image\n",
    "    X_dev -= mean_image\n",
    "    \n",
    "    # add bias dimension and transform into columns\n",
    "    X_train = np.hstack([X_train, np.ones((X_train.shape[0], 1))])\n",
    "    X_val = np.hstack([X_val, np.ones((X_val.shape[0], 1))])\n",
    "    X_test = np.hstack([X_test, np.ones((X_test.shape[0], 1))])\n",
    "    X_dev = np.hstack([X_dev, np.ones((X_dev.shape[0], 1))])\n",
    "    \n",
    "    return X_train, y_train, X_val, y_val, X_test, y_test, X_dev, y_dev\n",
    "\n",
    "\n",
    "# Cleaning up variables to prevent loading data multiple times (which may cause memory issue)\n",
    "try:\n",
    "   del X_train, y_train\n",
    "   del X_test, y_test\n",
    "   print('Clear previously loaded data.')\n",
    "except:\n",
    "   pass\n",
    "\n",
    "# Invoke the above function to get our data.\n",
    "X_train, y_train, X_val, y_val, X_test, y_test, X_dev, y_dev = get_CIFAR10_data()\n",
    "print('Train data shape: ', X_train.shape)\n",
    "print('Train labels shape: ', y_train.shape)\n",
    "print('Validation data shape: ', X_val.shape)\n",
    "print('Validation labels shape: ', y_val.shape)\n",
    "print('Test data shape: ', X_test.shape)\n",
    "print('Test labels shape: ', y_test.shape)\n",
    "print('dev data shape: ', X_dev.shape)\n",
    "print('dev labels shape: ', y_dev.shape)"
   ]
  },
  {
   "cell_type": "markdown",
   "metadata": {},
   "source": [
    "## Softmax Classifier\n",
    "\n",
    "Your code for this section will all be written inside **cs231n/classifiers/softmax.py**. \n"
   ]
  },
  {
   "cell_type": "code",
   "execution_count": 3,
   "metadata": {
    "ExecuteTime": {
     "end_time": "2019-01-14T11:48:08.081377Z",
     "start_time": "2019-01-14T11:48:08.051663Z"
    }
   },
   "outputs": [
    {
     "name": "stdout",
     "output_type": "stream",
     "text": [
      "loss: 2.334805\n",
      "sanity check: 2.302585\n"
     ]
    }
   ],
   "source": [
    "# First implement the naive softmax loss function with nested loops.\n",
    "# Open the file cs231n/classifiers/softmax.py and implement the\n",
    "# softmax_loss_naive function.\n",
    "\n",
    "from cs231n.classifiers.softmax import softmax_loss_naive\n",
    "import time\n",
    "\n",
    "# Generate a random softmax weight matrix and use it to compute the loss.\n",
    "W = np.random.randn(3073, 10) * 0.0001\n",
    "loss, grad = softmax_loss_naive(W, X_dev, y_dev, 0.0)\n",
    "\n",
    "# As a rough sanity check, our loss should be something close to -log(0.1).\n",
    "print('loss: %f' % loss)\n",
    "print('sanity check: %f' % (-np.log(0.1)))"
   ]
  },
  {
   "cell_type": "markdown",
   "metadata": {},
   "source": [
    "## Inline Question 1:\n",
    "Why do we expect our loss to be close to -log(0.1)? Explain briefly.**\n",
    "\n",
    "**Your answer:** *Fill this in*\n"
   ]
  },
  {
   "cell_type": "code",
   "execution_count": 4,
   "metadata": {
    "ExecuteTime": {
     "end_time": "2019-01-14T11:48:08.391909Z",
     "start_time": "2019-01-14T11:48:08.084089Z"
    }
   },
   "outputs": [
    {
     "name": "stdout",
     "output_type": "stream",
     "text": [
      "numerical: -0.204823 analytic: -0.204823, relative error: 2.259457e-07\n",
      "numerical: -0.206069 analytic: -0.206069, relative error: 1.458450e-07\n",
      "numerical: 0.235082 analytic: 0.235082, relative error: 1.487023e-07\n",
      "numerical: -0.241242 analytic: -0.241242, relative error: 2.735778e-07\n",
      "numerical: 0.123550 analytic: 0.123550, relative error: 1.460396e-07\n",
      "numerical: -0.959218 analytic: -0.959218, relative error: 2.265260e-08\n",
      "numerical: 1.103968 analytic: 1.103967, relative error: 4.139495e-08\n",
      "numerical: 1.233761 analytic: 1.233761, relative error: 1.447620e-09\n",
      "numerical: -2.276415 analytic: -2.276415, relative error: 4.959086e-09\n",
      "numerical: 0.773330 analytic: 0.773330, relative error: 4.347403e-08\n",
      "numerical: -1.332277 analytic: -1.332276, relative error: 2.503741e-08\n",
      "numerical: 2.178840 analytic: 2.178840, relative error: 8.564035e-09\n",
      "numerical: -2.845557 analytic: -2.845557, relative error: 1.807187e-08\n",
      "numerical: 2.437943 analytic: 2.437943, relative error: 8.948472e-09\n",
      "numerical: -5.263504 analytic: -5.263505, relative error: 8.514995e-09\n",
      "numerical: 1.027811 analytic: 1.027811, relative error: 1.456841e-08\n",
      "numerical: 2.400551 analytic: 2.400551, relative error: 9.237434e-09\n",
      "numerical: -0.130652 analytic: -0.130652, relative error: 6.053676e-07\n",
      "numerical: -5.139288 analytic: -5.139288, relative error: 3.249142e-09\n",
      "numerical: -0.559733 analytic: -0.559733, relative error: 7.460867e-09\n"
     ]
    }
   ],
   "source": [
    "# Complete the implementation of softmax_loss_naive and implement a (naive)\n",
    "# version of the gradient that uses nested loops.\n",
    "loss, grad = softmax_loss_naive(W, X_dev, y_dev, 0.0)\n",
    "\n",
    "# As we did for the SVM, use numeric gradient checking as a debugging tool.\n",
    "# The numeric gradient should be close to the analytic gradient.\n",
    "from cs231n.gradient_check import grad_check_sparse\n",
    "f = lambda w: softmax_loss_naive(w, X_dev, y_dev, 0.0)[0]\n",
    "grad_numerical = grad_check_sparse(f, W, grad, 10)\n",
    "\n",
    "# similar to SVM case, do another gradient check with regularization\n",
    "loss, grad = softmax_loss_naive(W, X_dev, y_dev, 5e1)\n",
    "f = lambda w: softmax_loss_naive(w, X_dev, y_dev, 5e1)[0]\n",
    "grad_numerical = grad_check_sparse(f, W, grad, 10)"
   ]
  },
  {
   "cell_type": "code",
   "execution_count": 5,
   "metadata": {
    "ExecuteTime": {
     "end_time": "2019-01-14T11:48:08.421015Z",
     "start_time": "2019-01-14T11:48:08.393608Z"
    }
   },
   "outputs": [
    {
     "name": "stdout",
     "output_type": "stream",
     "text": [
      "naive loss: 2.334805e+00 computed in 0.007941s\n",
      "vectorized loss: 2.334805e+00 computed in 0.006423s\n",
      "Loss difference: 0.000000\n",
      "Gradient difference: 0.000000\n"
     ]
    }
   ],
   "source": [
    "# Now that we have a naive implementation of the softmax loss function and its gradient,\n",
    "# implement a vectorized version in softmax_loss_vectorized.\n",
    "# The two versions should compute the same results, but the vectorized version should be\n",
    "# much faster.\n",
    "tic = time.time()\n",
    "loss_naive, grad_naive = softmax_loss_naive(W, X_dev, y_dev, 0.000005)\n",
    "toc = time.time()\n",
    "print('naive loss: %e computed in %fs' % (loss_naive, toc - tic))\n",
    "\n",
    "from cs231n.classifiers.softmax import softmax_loss_vectorized\n",
    "tic = time.time()\n",
    "loss_vectorized, grad_vectorized = softmax_loss_vectorized(W, X_dev, y_dev, 0.000005)\n",
    "toc = time.time()\n",
    "print('vectorized loss: %e computed in %fs' % (loss_vectorized, toc - tic))\n",
    "\n",
    "# As we did for the SVM, we use the Frobenius norm to compare the two versions\n",
    "# of the gradient.\n",
    "grad_difference = np.linalg.norm(grad_naive - grad_vectorized, ord='fro')\n",
    "print('Loss difference: %f' % np.abs(loss_naive - loss_vectorized))\n",
    "print('Gradient difference: %f' % grad_difference)"
   ]
  },
  {
   "cell_type": "code",
   "execution_count": 6,
   "metadata": {
    "ExecuteTime": {
     "end_time": "2019-01-14T11:51:50.229449Z",
     "start_time": "2019-01-14T11:48:08.422180Z"
    }
   },
   "outputs": [
    {
     "name": "stdout",
     "output_type": "stream",
     "text": [
      "0\n",
      "1\n",
      "2\n",
      "3\n",
      "4\n",
      "5\n",
      "6\n",
      "7\n",
      "8\n",
      "9\n",
      "10\n",
      "11\n",
      "12\n",
      "13\n",
      "14\n",
      "15\n",
      "16\n",
      "17\n",
      "18\n",
      "19\n",
      "20\n",
      "21\n",
      "22\n",
      "23\n",
      "24\n",
      "25\n",
      "26\n",
      "27\n",
      "28\n",
      "29\n",
      "30\n",
      "31\n",
      "32\n",
      "33\n",
      "34\n",
      "35\n",
      "36\n",
      "37\n",
      "38\n",
      "39\n",
      "40\n",
      "41\n",
      "42\n",
      "43\n",
      "44\n",
      "45\n",
      "46\n",
      "47\n",
      "48\n",
      "49\n",
      "lr 1.784285e-07 reg 4.838571e+03 train accuracy: 0.369061 val accuracy: 0.387000\n",
      "lr 1.912694e-07 reg 4.227701e+03 train accuracy: 0.373898 val accuracy: 0.379000\n",
      "lr 1.918644e-07 reg 5.055569e+03 train accuracy: 0.372449 val accuracy: 0.377000\n",
      "lr 1.932756e-07 reg 4.165681e+03 train accuracy: 0.370959 val accuracy: 0.379000\n",
      "lr 1.933027e-07 reg 4.434849e+03 train accuracy: 0.370612 val accuracy: 0.403000\n",
      "lr 1.947560e-07 reg 4.745150e+03 train accuracy: 0.374939 val accuracy: 0.396000\n",
      "lr 1.957618e-07 reg 4.827889e+03 train accuracy: 0.369184 val accuracy: 0.381000\n",
      "lr 1.967211e-07 reg 4.289904e+03 train accuracy: 0.370898 val accuracy: 0.384000\n",
      "lr 1.983980e-07 reg 4.563510e+03 train accuracy: 0.373918 val accuracy: 0.387000\n",
      "lr 1.996818e-07 reg 5.876734e+03 train accuracy: 0.369796 val accuracy: 0.376000\n",
      "lr 2.017974e-07 reg 4.934379e+03 train accuracy: 0.370837 val accuracy: 0.383000\n",
      "lr 2.055804e-07 reg 6.101270e+03 train accuracy: 0.365327 val accuracy: 0.375000\n",
      "lr 2.091959e-07 reg 5.009216e+03 train accuracy: 0.371041 val accuracy: 0.382000\n",
      "lr 2.097668e-07 reg 4.490255e+03 train accuracy: 0.372694 val accuracy: 0.379000\n",
      "lr 2.098855e-07 reg 6.181304e+03 train accuracy: 0.369449 val accuracy: 0.383000\n",
      "lr 2.177001e-07 reg 5.579774e+03 train accuracy: 0.371367 val accuracy: 0.391000\n",
      "lr 2.202678e-07 reg 4.544835e+03 train accuracy: 0.375286 val accuracy: 0.390000\n",
      "lr 2.206268e-07 reg 5.294825e+03 train accuracy: 0.372612 val accuracy: 0.382000\n",
      "lr 2.234528e-07 reg 6.001949e+03 train accuracy: 0.370796 val accuracy: 0.390000\n",
      "lr 2.236148e-07 reg 4.003766e+03 train accuracy: 0.375735 val accuracy: 0.379000\n",
      "lr 2.244218e-07 reg 6.266373e+03 train accuracy: 0.368347 val accuracy: 0.376000\n",
      "lr 2.260397e-07 reg 4.827841e+03 train accuracy: 0.374571 val accuracy: 0.380000\n",
      "lr 2.261842e-07 reg 6.179912e+03 train accuracy: 0.371796 val accuracy: 0.379000\n",
      "lr 2.282294e-07 reg 4.343709e+03 train accuracy: 0.370980 val accuracy: 0.393000\n",
      "lr 2.303356e-07 reg 4.541033e+03 train accuracy: 0.375245 val accuracy: 0.381000\n",
      "lr 2.322458e-07 reg 6.223272e+03 train accuracy: 0.367041 val accuracy: 0.382000\n",
      "lr 2.378587e-07 reg 4.092570e+03 train accuracy: 0.376796 val accuracy: 0.381000\n",
      "lr 2.448708e-07 reg 6.036620e+03 train accuracy: 0.367571 val accuracy: 0.379000\n",
      "lr 2.455874e-07 reg 5.199485e+03 train accuracy: 0.374224 val accuracy: 0.388000\n",
      "lr 2.468861e-07 reg 4.947685e+03 train accuracy: 0.374102 val accuracy: 0.384000\n",
      "lr 2.493141e-07 reg 4.717046e+03 train accuracy: 0.375224 val accuracy: 0.393000\n",
      "lr 2.538092e-07 reg 5.823814e+03 train accuracy: 0.370061 val accuracy: 0.377000\n",
      "lr 2.540695e-07 reg 5.970945e+03 train accuracy: 0.369571 val accuracy: 0.376000\n",
      "lr 2.554162e-07 reg 5.825250e+03 train accuracy: 0.369959 val accuracy: 0.383000\n",
      "lr 2.606406e-07 reg 4.689074e+03 train accuracy: 0.372939 val accuracy: 0.380000\n",
      "lr 2.649274e-07 reg 4.128601e+03 train accuracy: 0.377959 val accuracy: 0.385000\n",
      "lr 2.698633e-07 reg 4.621681e+03 train accuracy: 0.374980 val accuracy: 0.390000\n",
      "lr 2.709420e-07 reg 5.508913e+03 train accuracy: 0.369796 val accuracy: 0.390000\n",
      "lr 2.711720e-07 reg 4.379138e+03 train accuracy: 0.377959 val accuracy: 0.397000\n",
      "lr 2.756817e-07 reg 4.013518e+03 train accuracy: 0.378735 val accuracy: 0.394000\n",
      "lr 2.773767e-07 reg 5.924296e+03 train accuracy: 0.368918 val accuracy: 0.386000\n",
      "lr 2.847621e-07 reg 6.082273e+03 train accuracy: 0.368878 val accuracy: 0.378000\n",
      "lr 2.858159e-07 reg 4.593786e+03 train accuracy: 0.376531 val accuracy: 0.392000\n",
      "lr 2.924016e-07 reg 6.101720e+03 train accuracy: 0.363980 val accuracy: 0.374000\n",
      "lr 2.968883e-07 reg 5.433439e+03 train accuracy: 0.372673 val accuracy: 0.393000\n",
      "lr 2.979692e-07 reg 4.750610e+03 train accuracy: 0.375000 val accuracy: 0.396000\n",
      "lr 3.073036e-07 reg 6.147369e+03 train accuracy: 0.369959 val accuracy: 0.386000\n",
      "lr 3.098066e-07 reg 4.756564e+03 train accuracy: 0.376204 val accuracy: 0.395000\n",
      "lr 3.106281e-07 reg 6.027186e+03 train accuracy: 0.366571 val accuracy: 0.382000\n",
      "lr 3.117664e-07 reg 5.053943e+03 train accuracy: 0.372755 val accuracy: 0.387000\n",
      "best validation accuracy achieved during cross-validation: 0.403000\n"
     ]
    }
   ],
   "source": [
    "# Use the validation set to tune hyperparameters (regularization strength and\n",
    "# learning rate). You should experiment with different ranges for the learning\n",
    "# rates and regularization strengths; if you are careful you should be able to\n",
    "# get a classification accuracy of over 0.35 on the validation set.\n",
    "from cs231n.classifiers import Softmax\n",
    "results = {}\n",
    "best_val = -1\n",
    "best_softmax = None\n",
    "learning_rates = [1e-7, 5e-7]\n",
    "regularization_strengths = [2.5e4, 5e4]\n",
    "\n",
    "################################################################################\n",
    "# TODO:                                                                        #\n",
    "# Use the validation set to set the learning rate and regularization strength. #\n",
    "# This should be identical to the validation that you did for the SVM; save    #\n",
    "# the best trained softmax classifer in best_softmax.                          #\n",
    "################################################################################\n",
    "max_count = 50\n",
    "interation = 1500\n",
    "\n",
    "for i in range(max_count):\n",
    "    print(i)\n",
    "    lr_sample = 10 ** np.random.uniform(-6.75, -6.5)\n",
    "    reg_sample = 10 ** np.random.uniform(3.6, 3.8)\n",
    "    softmax = Softmax()\n",
    "    softmax.train(X_train, y_train, learning_rate=lr_sample, reg=reg_sample, num_iters=interation)\n",
    "    train_accuracy = np.mean(softmax.predict(X_train) == y_train)\n",
    "    val_accuracy = np.mean(softmax.predict(X_val) == y_val)\n",
    "    \n",
    "    results[(lr_sample, reg_sample)] = (train_accuracy, val_accuracy)\n",
    "    \n",
    "    if val_accuracy > best_val:\n",
    "        best_val = val_accuracy\n",
    "        best_softmax = softmax\n",
    "    \n",
    "    \n",
    "################################################################################\n",
    "#                              END OF YOUR CODE                                #\n",
    "################################################################################\n",
    "    \n",
    "# Print out results.\n",
    "for lr, reg in sorted(results):\n",
    "    train_accuracy, val_accuracy = results[(lr, reg)]\n",
    "    print('lr %e reg %e train accuracy: %f val accuracy: %f' % (\n",
    "                lr, reg, train_accuracy, val_accuracy))\n",
    "    \n",
    "print('best validation accuracy achieved during cross-validation: %f' % best_val)"
   ]
  },
  {
   "cell_type": "code",
   "execution_count": 7,
   "metadata": {
    "ExecuteTime": {
     "end_time": "2019-01-14T11:51:50.246924Z",
     "start_time": "2019-01-14T11:51:50.233576Z"
    }
   },
   "outputs": [
    {
     "name": "stdout",
     "output_type": "stream",
     "text": [
      "softmax on raw pixels final test set accuracy: 0.369000\n"
     ]
    }
   ],
   "source": [
    "# evaluate on test set\n",
    "# Evaluate the best softmax on test set\n",
    "y_test_pred = best_softmax.predict(X_test)\n",
    "test_accuracy = np.mean(y_test == y_test_pred)\n",
    "print('softmax on raw pixels final test set accuracy: %f' % (test_accuracy, ))"
   ]
  },
  {
   "cell_type": "markdown",
   "metadata": {},
   "source": [
    "**Inline Question** - *True or False*\n",
    "\n",
    "It's possible to add a new datapoint to a training set that would leave the SVM loss unchanged, but this is not the case with the Softmax classifier loss.\n",
    "\n",
    "*Your answer*:\n",
    "\n",
    "*Your explanation*:"
   ]
  },
  {
   "cell_type": "code",
   "execution_count": 8,
   "metadata": {
    "ExecuteTime": {
     "end_time": "2019-01-14T11:51:50.473400Z",
     "start_time": "2019-01-14T11:51:50.248288Z"
    }
   },
   "outputs": [
    {
     "data": {
      "image/png": "[encoded data removed]",
      "text/plain": [
       "<Figure size 432x288 with 10 Axes>"
      ]
     },
     "metadata": {
      "needs_background": "light"
     },
     "output_type": "display_data"
    }
   ],
   "source": [
    "# Visualize the learned weights for each class\n",
    "w = best_softmax.W[:-1,:] # strip out the bias\n",
    "w = w.reshape(32, 32, 3, 10)\n",
    "\n",
    "w_min, w_max = np.min(w), np.max(w)\n",
    "\n",
    "classes = ['plane', 'car', 'bird', 'cat', 'deer', 'dog', 'frog', 'horse', 'ship', 'truck']\n",
    "for i in range(10):\n",
    "    plt.subplot(2, 5, i + 1)\n",
    "    \n",
    "    # Rescale the weights to be between 0 and 255\n",
    "    wimg = 255.0 * (w[:, :, :, i].squeeze() - w_min) / (w_max - w_min)\n",
    "    plt.imshow(wimg.astype('uint8'))\n",
    "    plt.axis('off')\n",
    "    plt.title(classes[i])"
   ]
  }
 ],
 "metadata": {
  "kernelspec": {
   "display_name": "Python 3",
   "language": "python",
   "name": "python3"
  },
  "language_info": {
   "codemirror_mode": {
    "name": "ipython",
    "version": 3
   },
   "file_extension": ".py",
   "mimetype": "text/x-python",
   "name": "python",
   "nbconvert_exporter": "python",
   "pygments_lexer": "ipython3",
   "version": "3.6.5"
  },
  "toc": {
   "base_numbering": 1,
   "nav_menu": {},
   "number_sections": true,
   "sideBar": true,
   "skip_h1_title": false,
   "title_cell": "Table of Contents",
   "title_sidebar": "Contents",
   "toc_cell": false,
   "toc_position": {},
   "toc_section_display": true,
   "toc_window_display": false
  },
  "varInspector": {
   "cols": {
    "lenName": 16,
    "lenType": 16,
    "lenVar": 40
   },
   "kernels_config": {
    "python": {
     "delete_cmd_postfix": "",
     "delete_cmd_prefix": "del ",
     "library": "var_list.py",
     "varRefreshCmd": "print(var_dic_list())"
    },
    "r": {
     "delete_cmd_postfix": ") ",
     "delete_cmd_prefix": "rm(",
     "library": "var_list.r",
     "varRefreshCmd": "cat(var_dic_list()) "
    }
   },
   "oldHeight": 360.469,
   "position": {
    "height": "40px",
    "left": "125px",
    "right": "20px",
    "top": "202px",
    "width": "483px"
   },
   "types_to_exclude": [
    "module",
    "function",
    "builtin_function_or_method",
    "instance",
    "_Feature"
   ],
   "varInspector_section_display": "none",
   "window_display": true
  }
 },
 "nbformat": 4,
 "nbformat_minor": 1
}
