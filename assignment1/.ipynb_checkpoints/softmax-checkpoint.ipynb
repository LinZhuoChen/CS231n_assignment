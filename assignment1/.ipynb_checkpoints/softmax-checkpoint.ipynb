{
 "cells": [
  {
   "cell_type": "markdown",
   "metadata": {},
   "source": [
    "# Softmax exercise\n",
    "\n",
    "*Complete and hand in this completed worksheet (including its outputs and any supporting code outside of the worksheet) with your assignment submission. For more details see the [assignments page](http://vision.stanford.edu/teaching/cs231n/assignments.html) on the course website.*\n",
    "\n",
    "This exercise is analogous to the SVM exercise. You will:\n",
    "\n",
    "- implement a fully-vectorized **loss function** for the Softmax classifier\n",
    "- implement the fully-vectorized expression for its **analytic gradient**\n",
    "- **check your implementation** with numerical gradient\n",
    "- use a validation set to **tune the learning rate and regularization** strength\n",
    "- **optimize** the loss function with **SGD**\n",
    "- **visualize** the final learned weights\n"
   ]
  },
  {
   "cell_type": "code",
   "execution_count": 1,
   "metadata": {
    "ExecuteTime": {
     "end_time": "2019-01-14T08:51:22.568640Z",
     "start_time": "2019-01-14T08:51:22.347324Z"
    }
   },
   "outputs": [],
   "source": [
    "import random\n",
    "import numpy as np\n",
    "from cs231n.data_utils import load_CIFAR10\n",
    "import matplotlib.pyplot as plt\n",
    "\n",
    "from __future__ import print_function\n",
    "\n",
    "%matplotlib inline\n",
    "plt.rcParams['figure.figsize'] = (10.0, 8.0) # set default size of plots\n",
    "plt.rcParams['image.interpolation'] = 'nearest'\n",
    "plt.rcParams['image.cmap'] = 'gray'\n",
    "\n",
    "# for auto-reloading extenrnal modules\n",
    "# see http://stackoverflow.com/questions/1907993/autoreload-of-modules-in-ipython\n",
    "%load_ext autoreload\n",
    "%autoreload 2"
   ]
  },
  {
   "cell_type": "code",
   "execution_count": 2,
   "metadata": {
    "ExecuteTime": {
     "end_time": "2019-01-14T08:51:25.054467Z",
     "start_time": "2019-01-14T08:51:22.569981Z"
    }
   },
   "outputs": [
    {
     "name": "stdout",
     "output_type": "stream",
     "text": [
      "Train data shape:  (49000, 3073)\n",
      "Train labels shape:  (49000,)\n",
      "Validation data shape:  (1000, 3073)\n",
      "Validation labels shape:  (1000,)\n",
      "Test data shape:  (1000, 3073)\n",
      "Test labels shape:  (1000,)\n",
      "dev data shape:  (500, 3073)\n",
      "dev labels shape:  (500,)\n"
     ]
    }
   ],
   "source": [
    "def get_CIFAR10_data(num_training=49000, num_validation=1000, num_test=1000, num_dev=500):\n",
    "    \"\"\"\n",
    "    Load the CIFAR-10 dataset from disk and perform preprocessing to prepare\n",
    "    it for the linear classifier. These are the same steps as we used for the\n",
    "    SVM, but condensed to a single function.  \n",
    "    \"\"\"\n",
    "    # Load the raw CIFAR-10 data\n",
    "    cifar10_dir = 'cs231n/datasets/cifar-10-batches-py'\n",
    "    \n",
    "    X_train, y_train, X_test, y_test = load_CIFAR10(cifar10_dir)\n",
    "    \n",
    "    # subsample the data\n",
    "    mask = list(range(num_training, num_training + num_validation))\n",
    "    X_val = X_train[mask]\n",
    "    y_val = y_train[mask]\n",
    "    mask = list(range(num_training))\n",
    "    X_train = X_train[mask]\n",
    "    y_train = y_train[mask]\n",
    "    mask = list(range(num_test))\n",
    "    X_test = X_test[mask]\n",
    "    y_test = y_test[mask]\n",
    "    mask = np.random.choice(num_training, num_dev, replace=False)\n",
    "    X_dev = X_train[mask]\n",
    "    y_dev = y_train[mask]\n",
    "    \n",
    "    # Preprocessing: reshape the image data into rows\n",
    "    X_train = np.reshape(X_train, (X_train.shape[0], -1))\n",
    "    X_val = np.reshape(X_val, (X_val.shape[0], -1))\n",
    "    X_test = np.reshape(X_test, (X_test.shape[0], -1))\n",
    "    X_dev = np.reshape(X_dev, (X_dev.shape[0], -1))\n",
    "    \n",
    "    # Normalize the data: subtract the mean image\n",
    "    mean_image = np.mean(X_train, axis = 0)\n",
    "    X_train -= mean_image\n",
    "    X_val -= mean_image\n",
    "    X_test -= mean_image\n",
    "    X_dev -= mean_image\n",
    "    \n",
    "    # add bias dimension and transform into columns\n",
    "    X_train = np.hstack([X_train, np.ones((X_train.shape[0], 1))])\n",
    "    X_val = np.hstack([X_val, np.ones((X_val.shape[0], 1))])\n",
    "    X_test = np.hstack([X_test, np.ones((X_test.shape[0], 1))])\n",
    "    X_dev = np.hstack([X_dev, np.ones((X_dev.shape[0], 1))])\n",
    "    \n",
    "    return X_train, y_train, X_val, y_val, X_test, y_test, X_dev, y_dev\n",
    "\n",
    "\n",
    "# Cleaning up variables to prevent loading data multiple times (which may cause memory issue)\n",
    "try:\n",
    "   del X_train, y_train\n",
    "   del X_test, y_test\n",
    "   print('Clear previously loaded data.')\n",
    "except:\n",
    "   pass\n",
    "\n",
    "# Invoke the above function to get our data.\n",
    "X_train, y_train, X_val, y_val, X_test, y_test, X_dev, y_dev = get_CIFAR10_data()\n",
    "print('Train data shape: ', X_train.shape)\n",
    "print('Train labels shape: ', y_train.shape)\n",
    "print('Validation data shape: ', X_val.shape)\n",
    "print('Validation labels shape: ', y_val.shape)\n",
    "print('Test data shape: ', X_test.shape)\n",
    "print('Test labels shape: ', y_test.shape)\n",
    "print('dev data shape: ', X_dev.shape)\n",
    "print('dev labels shape: ', y_dev.shape)"
   ]
  },
  {
   "cell_type": "markdown",
   "metadata": {},
   "source": [
    "## Softmax Classifier\n",
    "\n",
    "Your code for this section will all be written inside **cs231n/classifiers/softmax.py**. \n"
   ]
  },
  {
   "cell_type": "code",
   "execution_count": 3,
   "metadata": {
    "ExecuteTime": {
     "end_time": "2019-01-14T08:51:25.073859Z",
     "start_time": "2019-01-14T08:51:25.056188Z"
    }
   },
   "outputs": [
    {
     "name": "stdout",
     "output_type": "stream",
     "text": [
      "loss: 2.358798\n",
      "sanity check: 2.302585\n"
     ]
    }
   ],
   "source": [
    "# First implement the naive softmax loss function with nested loops.\n",
    "# Open the file cs231n/classifiers/softmax.py and implement the\n",
    "# softmax_loss_naive function.\n",
    "\n",
    "from cs231n.classifiers.softmax import softmax_loss_naive\n",
    "import time\n",
    "\n",
    "# Generate a random softmax weight matrix and use it to compute the loss.\n",
    "W = np.random.randn(3073, 10) * 0.0001\n",
    "loss, grad = softmax_loss_naive(W, X_dev, y_dev, 0.0)\n",
    "\n",
    "# As a rough sanity check, our loss should be something close to -log(0.1).\n",
    "print('loss: %f' % loss)\n",
    "print('sanity check: %f' % (-np.log(0.1)))"
   ]
  },
  {
   "cell_type": "markdown",
   "metadata": {},
   "source": [
    "## Inline Question 1:\n",
    "Why do we expect our loss to be close to -log(0.1)? Explain briefly.**\n",
    "\n",
    "**Your answer:** *Fill this in*\n"
   ]
  },
  {
   "cell_type": "code",
   "execution_count": 4,
   "metadata": {
    "ExecuteTime": {
     "end_time": "2019-01-14T08:51:25.350966Z",
     "start_time": "2019-01-14T08:51:25.075440Z"
    }
   },
   "outputs": [
    {
     "name": "stdout",
     "output_type": "stream",
     "text": [
      "numerical: 1.078960 analytic: 1.078960, relative error: 1.795226e-08\n",
      "numerical: -0.568280 analytic: -0.568280, relative error: 1.709569e-08\n",
      "numerical: 0.233980 analytic: 0.233980, relative error: 1.967705e-08\n",
      "numerical: 0.078086 analytic: 0.078087, relative error: 6.978390e-07\n",
      "numerical: 1.906548 analytic: 1.906548, relative error: 3.886808e-09\n",
      "numerical: -4.586870 analytic: -4.586870, relative error: 6.987406e-09\n",
      "numerical: 1.226195 analytic: 1.226195, relative error: 2.117904e-08\n",
      "numerical: 1.124526 analytic: 1.124526, relative error: 5.572468e-08\n",
      "numerical: 2.432173 analytic: 2.432173, relative error: 5.163096e-09\n",
      "numerical: 1.284016 analytic: 1.284016, relative error: 3.236914e-08\n",
      "numerical: 0.377209 analytic: 0.377209, relative error: 1.982515e-08\n",
      "numerical: 1.740304 analytic: 1.740304, relative error: 1.443246e-08\n",
      "numerical: -0.114303 analytic: -0.114303, relative error: 5.839738e-08\n",
      "numerical: 2.585944 analytic: 2.585944, relative error: 9.167948e-09\n",
      "numerical: 1.428235 analytic: 1.428235, relative error: 3.862604e-08\n",
      "numerical: -0.961563 analytic: -0.961563, relative error: 1.173658e-08\n",
      "numerical: -0.260394 analytic: -0.260394, relative error: 6.912086e-08\n",
      "numerical: 1.550467 analytic: 1.550467, relative error: 5.260342e-09\n",
      "numerical: -0.222354 analytic: -0.222354, relative error: 6.964561e-08\n",
      "numerical: -2.683322 analytic: -2.683322, relative error: 3.715728e-09\n"
     ]
    }
   ],
   "source": [
    "# Complete the implementation of softmax_loss_naive and implement a (naive)\n",
    "# version of the gradient that uses nested loops.\n",
    "loss, grad = softmax_loss_naive(W, X_dev, y_dev, 0.0)\n",
    "\n",
    "# As we did for the SVM, use numeric gradient checking as a debugging tool.\n",
    "# The numeric gradient should be close to the analytic gradient.\n",
    "from cs231n.gradient_check import grad_check_sparse\n",
    "f = lambda w: softmax_loss_naive(w, X_dev, y_dev, 0.0)[0]\n",
    "grad_numerical = grad_check_sparse(f, W, grad, 10)\n",
    "\n",
    "# similar to SVM case, do another gradient check with regularization\n",
    "loss, grad = softmax_loss_naive(W, X_dev, y_dev, 5e1)\n",
    "f = lambda w: softmax_loss_naive(w, X_dev, y_dev, 5e1)[0]\n",
    "grad_numerical = grad_check_sparse(f, W, grad, 10)"
   ]
  },
  {
   "cell_type": "code",
   "execution_count": 5,
   "metadata": {
    "ExecuteTime": {
     "end_time": "2019-01-14T08:51:25.377682Z",
     "start_time": "2019-01-14T08:51:25.352476Z"
    }
   },
   "outputs": [
    {
     "name": "stdout",
     "output_type": "stream",
     "text": [
      "naive loss: 2.358798e+00 computed in 0.006598s\n",
      "vectorized loss: 2.358798e+00 computed in 0.006163s\n",
      "Loss difference: 0.000000\n",
      "Gradient difference: 0.000000\n"
     ]
    }
   ],
   "source": [
    "# Now that we have a naive implementation of the softmax loss function and its gradient,\n",
    "# implement a vectorized version in softmax_loss_vectorized.\n",
    "# The two versions should compute the same results, but the vectorized version should be\n",
    "# much faster.\n",
    "tic = time.time()\n",
    "loss_naive, grad_naive = softmax_loss_naive(W, X_dev, y_dev, 0.000005)\n",
    "toc = time.time()\n",
    "print('naive loss: %e computed in %fs' % (loss_naive, toc - tic))\n",
    "\n",
    "from cs231n.classifiers.softmax import softmax_loss_vectorized\n",
    "tic = time.time()\n",
    "loss_vectorized, grad_vectorized = softmax_loss_vectorized(W, X_dev, y_dev, 0.000005)\n",
    "toc = time.time()\n",
    "print('vectorized loss: %e computed in %fs' % (loss_vectorized, toc - tic))\n",
    "\n",
    "# As we did for the SVM, we use the Frobenius norm to compare the two versions\n",
    "# of the gradient.\n",
    "grad_difference = np.linalg.norm(grad_naive - grad_vectorized, ord='fro')\n",
    "print('Loss difference: %f' % np.abs(loss_naive - loss_vectorized))\n",
    "print('Gradient difference: %f' % grad_difference)"
   ]
  },
  {
   "cell_type": "code",
   "execution_count": 6,
   "metadata": {
    "ExecuteTime": {
     "end_time": "2019-01-14T08:55:10.737414Z",
     "start_time": "2019-01-14T08:51:25.379312Z"
    }
   },
   "outputs": [
    {
     "name": "stdout",
     "output_type": "stream",
     "text": [
      "0\n",
      "1\n",
      "2\n",
      "3\n",
      "4\n",
      "5\n",
      "6\n",
      "7\n",
      "8\n",
      "9\n",
      "10\n",
      "11\n",
      "12\n",
      "13\n",
      "14\n",
      "15\n",
      "16\n",
      "17\n",
      "18\n",
      "19\n",
      "20\n",
      "21\n",
      "22\n",
      "23\n",
      "24\n",
      "25\n",
      "26\n",
      "27\n",
      "28\n",
      "29\n",
      "30\n",
      "31\n",
      "32\n",
      "33\n",
      "34\n",
      "35\n",
      "36\n",
      "37\n",
      "38\n",
      "39\n",
      "40\n",
      "41\n",
      "42\n",
      "43\n",
      "44\n",
      "45\n",
      "46\n",
      "47\n",
      "48\n",
      "49\n",
      "lr 1.784358e-07 reg 4.609539e+03 train accuracy: 0.369449 val accuracy: 0.377000\n",
      "lr 1.789941e-07 reg 5.066755e+03 train accuracy: 0.368980 val accuracy: 0.383000\n",
      "lr 1.801682e-07 reg 5.399765e+03 train accuracy: 0.367592 val accuracy: 0.385000\n",
      "lr 1.813292e-07 reg 5.685826e+03 train accuracy: 0.372837 val accuracy: 0.380000\n",
      "lr 1.841651e-07 reg 4.107125e+03 train accuracy: 0.368082 val accuracy: 0.381000\n",
      "lr 1.891446e-07 reg 5.057490e+03 train accuracy: 0.372265 val accuracy: 0.387000\n",
      "lr 1.929882e-07 reg 4.111158e+03 train accuracy: 0.370776 val accuracy: 0.386000\n",
      "lr 1.957255e-07 reg 5.661000e+03 train accuracy: 0.370653 val accuracy: 0.393000\n",
      "lr 1.962620e-07 reg 4.500705e+03 train accuracy: 0.372490 val accuracy: 0.382000\n",
      "lr 1.969384e-07 reg 5.906599e+03 train accuracy: 0.369531 val accuracy: 0.383000\n",
      "lr 2.036948e-07 reg 4.475174e+03 train accuracy: 0.372102 val accuracy: 0.373000\n",
      "lr 2.047771e-07 reg 5.792398e+03 train accuracy: 0.370367 val accuracy: 0.382000\n",
      "lr 2.081109e-07 reg 5.328722e+03 train accuracy: 0.372490 val accuracy: 0.388000\n",
      "lr 2.109965e-07 reg 4.137114e+03 train accuracy: 0.376429 val accuracy: 0.391000\n",
      "lr 2.114247e-07 reg 4.906278e+03 train accuracy: 0.371714 val accuracy: 0.377000\n",
      "lr 2.149953e-07 reg 4.885004e+03 train accuracy: 0.373837 val accuracy: 0.396000\n",
      "lr 2.156923e-07 reg 5.360099e+03 train accuracy: 0.370041 val accuracy: 0.376000\n",
      "lr 2.158642e-07 reg 5.784666e+03 train accuracy: 0.369388 val accuracy: 0.383000\n",
      "lr 2.195517e-07 reg 4.289815e+03 train accuracy: 0.377061 val accuracy: 0.389000\n",
      "lr 2.279288e-07 reg 6.142987e+03 train accuracy: 0.368388 val accuracy: 0.377000\n",
      "lr 2.326958e-07 reg 4.786711e+03 train accuracy: 0.374898 val accuracy: 0.392000\n",
      "lr 2.337046e-07 reg 6.214922e+03 train accuracy: 0.368163 val accuracy: 0.373000\n",
      "lr 2.342944e-07 reg 4.307966e+03 train accuracy: 0.373837 val accuracy: 0.386000\n",
      "lr 2.343216e-07 reg 5.388664e+03 train accuracy: 0.368265 val accuracy: 0.382000\n",
      "lr 2.348460e-07 reg 6.193871e+03 train accuracy: 0.367367 val accuracy: 0.385000\n",
      "lr 2.364804e-07 reg 5.760583e+03 train accuracy: 0.372265 val accuracy: 0.381000\n",
      "lr 2.381345e-07 reg 4.316732e+03 train accuracy: 0.372980 val accuracy: 0.386000\n",
      "lr 2.382966e-07 reg 5.662039e+03 train accuracy: 0.372571 val accuracy: 0.387000\n",
      "lr 2.388853e-07 reg 4.206666e+03 train accuracy: 0.378347 val accuracy: 0.385000\n",
      "lr 2.432216e-07 reg 5.500084e+03 train accuracy: 0.372857 val accuracy: 0.382000\n",
      "lr 2.480168e-07 reg 6.096973e+03 train accuracy: 0.367735 val accuracy: 0.379000\n",
      "lr 2.524273e-07 reg 5.010707e+03 train accuracy: 0.370857 val accuracy: 0.384000\n",
      "lr 2.567719e-07 reg 4.125858e+03 train accuracy: 0.377714 val accuracy: 0.383000\n",
      "lr 2.682111e-07 reg 4.055911e+03 train accuracy: 0.376980 val accuracy: 0.386000\n",
      "lr 2.697388e-07 reg 5.861812e+03 train accuracy: 0.366714 val accuracy: 0.383000\n",
      "lr 2.706062e-07 reg 4.935168e+03 train accuracy: 0.374490 val accuracy: 0.393000\n",
      "lr 2.798916e-07 reg 5.947035e+03 train accuracy: 0.370408 val accuracy: 0.387000\n",
      "lr 2.810947e-07 reg 4.564374e+03 train accuracy: 0.375102 val accuracy: 0.394000\n",
      "lr 2.823902e-07 reg 4.959070e+03 train accuracy: 0.371592 val accuracy: 0.386000\n",
      "lr 2.831008e-07 reg 4.731361e+03 train accuracy: 0.374980 val accuracy: 0.388000\n",
      "lr 2.927438e-07 reg 4.275684e+03 train accuracy: 0.378367 val accuracy: 0.379000\n",
      "lr 2.935124e-07 reg 5.307332e+03 train accuracy: 0.375224 val accuracy: 0.390000\n",
      "lr 2.960551e-07 reg 5.806904e+03 train accuracy: 0.370776 val accuracy: 0.385000\n",
      "lr 2.975195e-07 reg 5.139662e+03 train accuracy: 0.374347 val accuracy: 0.392000\n",
      "lr 2.980458e-07 reg 5.609435e+03 train accuracy: 0.372245 val accuracy: 0.389000\n",
      "lr 2.989103e-07 reg 4.462943e+03 train accuracy: 0.378204 val accuracy: 0.393000\n",
      "lr 3.032659e-07 reg 4.328640e+03 train accuracy: 0.379469 val accuracy: 0.391000\n",
      "lr 3.120824e-07 reg 4.132718e+03 train accuracy: 0.377898 val accuracy: 0.390000\n",
      "lr 3.140881e-07 reg 4.709595e+03 train accuracy: 0.373510 val accuracy: 0.385000\n",
      "lr 3.156007e-07 reg 4.913879e+03 train accuracy: 0.374388 val accuracy: 0.385000\n",
      "best validation accuracy achieved during cross-validation: -1.000000\n"
     ]
    }
   ],
   "source": [
    "# Use the validation set to tune hyperparameters (regularization strength and\n",
    "# learning rate). You should experiment with different ranges for the learning\n",
    "# rates and regularization strengths; if you are careful you should be able to\n",
    "# get a classification accuracy of over 0.35 on the validation set.\n",
    "from cs231n.classifiers import Softmax\n",
    "results = {}\n",
    "best_val = -1\n",
    "best_softmax = None\n",
    "learning_rates = [1e-7, 5e-7]\n",
    "regularization_strengths = [2.5e4, 5e4]\n",
    "\n",
    "################################################################################\n",
    "# TODO:                                                                        #\n",
    "# Use the validation set to set the learning rate and regularization strength. #\n",
    "# This should be identical to the validation that you did for the SVM; save    #\n",
    "# the best trained softmax classifer in best_softmax.                          #\n",
    "################################################################################\n",
    "max_count = 50\n",
    "interation = 1500\n",
    "\n",
    "for i in range(max_count):\n",
    "    print(i)\n",
    "    lr_sample = 10 ** np.random.uniform(-6.75, -6.5)\n",
    "    reg_sample = 10 ** np.random.uniform(3.6, 3.8)\n",
    "    softmax = Softmax()\n",
    "    softmax.train(X_train, y_train, learning_rate=lr_sample, reg=reg_sample, num_iters=interation)\n",
    "    train_accuracy = np.mean(softmax.predict(X_train) == y_train)\n",
    "    val_accuracy = np.mean(softmax.predict(X_val) == y_val)\n",
    "    \n",
    "    results[(lr_sample, reg_sample)] = (train_accuracy, val_accuracy)\n",
    "    \n",
    "    if val_accuracy > val_accuracy_best:\n",
    "        best_val = val_accuracy\n",
    "        best_softmax = softmax\n",
    "    \n",
    "    \n",
    "################################################################################\n",
    "#                              END OF YOUR CODE                                #\n",
    "################################################################################\n",
    "    \n",
    "# Print out results.\n",
    "for lr, reg in sorted(results):\n",
    "    train_accuracy, val_accuracy = results[(lr, reg)]\n",
    "    print('lr %e reg %e train accuracy: %f val accuracy: %f' % (\n",
    "                lr, reg, train_accuracy, val_accuracy))\n",
    "    \n",
    "print('best validation accuracy achieved during cross-validation: %f' % best_val)"
   ]
  },
  {
   "cell_type": "code",
   "execution_count": 7,
   "metadata": {
    "ExecuteTime": {
     "end_time": "2019-01-14T08:55:10.755787Z",
     "start_time": "2019-01-14T08:55:10.739384Z"
    }
   },
   "outputs": [
    {
     "name": "stdout",
     "output_type": "stream",
     "text": [
      "softmax on raw pixels final test set accuracy: 0.364000\n"
     ]
    }
   ],
   "source": [
    "# evaluate on test set\n",
    "# Evaluate the best softmax on test set\n",
    "y_test_pred = best_softmax.predict(X_test)\n",
    "test_accuracy = np.mean(y_test == y_test_pred)\n",
    "print('softmax on raw pixels final test set accuracy: %f' % (test_accuracy, ))"
   ]
  },
  {
   "cell_type": "markdown",
   "metadata": {},
   "source": [
    "**Inline Question** - *True or False*\n",
    "\n",
    "It's possible to add a new datapoint to a training set that would leave the SVM loss unchanged, but this is not the case with the Softmax classifier loss.\n",
    "\n",
    "*Your answer*:\n",
    "\n",
    "*Your explanation*:"
   ]
  },
  {
   "cell_type": "code",
   "execution_count": 8,
   "metadata": {
    "ExecuteTime": {
     "end_time": "2019-01-14T08:55:11.004414Z",
     "start_time": "2019-01-14T08:55:10.757327Z"
    }
   },
   "outputs": [
    {
     "data": {
      "image/png": "[encoded data removed]",
      "text/plain": [
       "<Figure size 432x288 with 10 Axes>"
      ]
     },
     "metadata": {
      "needs_background": "light"
     },
     "output_type": "display_data"
    }
   ],
   "source": [
    "# Visualize the learned weights for each class\n",
    "w = best_softmax.W[:-1,:] # strip out the bias\n",
    "w = w.reshape(32, 32, 3, 10)\n",
    "\n",
    "w_min, w_max = np.min(w), np.max(w)\n",
    "\n",
    "classes = ['plane', 'car', 'bird', 'cat', 'deer', 'dog', 'frog', 'horse', 'ship', 'truck']\n",
    "for i in range(10):\n",
    "    plt.subplot(2, 5, i + 1)\n",
    "    \n",
    "    # Rescale the weights to be between 0 and 255\n",
    "    wimg = 255.0 * (w[:, :, :, i].squeeze() - w_min) / (w_max - w_min)\n",
    "    plt.imshow(wimg.astype('uint8'))\n",
    "    plt.axis('off')\n",
    "    plt.title(classes[i])"
   ]
  }
 ],
 "metadata": {
  "kernelspec": {
   "display_name": "Python 3",
   "language": "python",
   "name": "python3"
  },
  "language_info": {
   "codemirror_mode": {
    "name": "ipython",
    "version": 3
   },
   "file_extension": ".py",
   "mimetype": "text/x-python",
   "name": "python",
   "nbconvert_exporter": "python",
   "pygments_lexer": "ipython3",
   "version": "3.5.5"
  },
  "toc": {
   "base_numbering": 1,
   "nav_menu": {},
   "number_sections": true,
   "sideBar": true,
   "skip_h1_title": false,
   "title_cell": "Table of Contents",
   "title_sidebar": "Contents",
   "toc_cell": false,
   "toc_position": {},
   "toc_section_display": true,
   "toc_window_display": false
  },
  "varInspector": {
   "cols": {
    "lenName": 16,
    "lenType": 16,
    "lenVar": 40
   },
   "kernels_config": {
    "python": {
     "delete_cmd_postfix": "",
     "delete_cmd_prefix": "del ",
     "library": "var_list.py",
     "varRefreshCmd": "print(var_dic_list())"
    },
    "r": {
     "delete_cmd_postfix": ") ",
     "delete_cmd_prefix": "rm(",
     "library": "var_list.r",
     "varRefreshCmd": "cat(var_dic_list()) "
    }
   },
   "oldHeight": 360.469,
   "position": {
    "height": "40px",
    "left": "-109px",
    "right": "20px",
    "top": "191px",
    "width": "483px"
   },
   "types_to_exclude": [
    "module",
    "function",
    "builtin_function_or_method",
    "instance",
    "_Feature"
   ],
   "varInspector_section_display": "none",
   "window_display": true
  }
 },
 "nbformat": 4,
 "nbformat_minor": 1
}
